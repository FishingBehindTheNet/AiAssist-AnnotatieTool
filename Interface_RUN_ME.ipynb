{
 "cells": [
  {
   "cell_type": "code",
   "execution_count": 1,
   "metadata": {},
   "outputs": [],
   "source": [
    "from Modules.Opstarten import Launch"
   ]
  },
  {
   "cell_type": "code",
   "execution_count": null,
   "metadata": {},
   "outputs": [
    {
     "data": {
      "application/vnd.jupyter.widget-view+json": {
       "model_id": "776b4fb0be8841578d8ef9f450b80332",
       "version_major": 2,
       "version_minor": 0
      },
      "text/plain": [
       "VBox(children=(HTML(value=\"<h3>Map locaties</h3> Deze map bevat alle <b>Foto's</b>:\"), FileChooser(path='C:\\Us…"
      ]
     },
     "metadata": {},
     "output_type": "display_data"
    },
    {
     "data": {
      "application/vnd.jupyter.widget-view+json": {
       "model_id": "78dbb3175a494a969c3a6caa9cfba599",
       "version_major": 2,
       "version_minor": 0
      },
      "text/plain": [
       "VBox(children=(HTML(value='<h3>Model keuze</h3> selecteer het <b>model</b>(getest met .pt en .onnx modelen):')…"
      ]
     },
     "metadata": {},
     "output_type": "display_data"
    },
    {
     "data": {
      "application/vnd.jupyter.widget-view+json": {
       "model_id": "fe5cfd5b840147f1a2de0d074e8a6434",
       "version_major": 2,
       "version_minor": 0
      },
      "text/plain": [
       "VBox(children=(HTML(value='<b>De volgende Labels zijn al geregistreerd:</b><br>Trips<br> Aphidius<br> Witte vl…"
      ]
     },
     "metadata": {},
     "output_type": "display_data"
    },
    {
     "data": {
      "application/vnd.jupyter.widget-view+json": {
       "model_id": "b917f09b59d04e41baa2515b6a5d8325",
       "version_major": 2,
       "version_minor": 0
      },
      "text/plain": [
       "VBox(children=(HBox(children=(Button(button_style='warning', description='Back', style=ButtonStyle()), ToggleB…"
      ]
     },
     "metadata": {},
     "output_type": "display_data"
    },
    {
     "name": "stderr",
     "output_type": "stream",
     "text": [
      "Loading C:\\Users\\Sjoer\\OneDrive - HAS Hogeschool\\Documenten\\Python\\WWEL-Sjoerd\\AiAssist-AnnotatieTool\\Model\\best.onnx for ONNX Runtime inference...\n",
      "\n",
      "WARNING  Source shapes differ. For optimal performance supply similarly-shaped sources.\n",
      "image 1/1 C:\\Users\\Sjoer\\OneDrive - HAS Hogeschool\\Documenten\\Python\\WWEL-Sjoerd\\Database\\GSS\\images\\0132_A52_omgeving_1_3840_7680.JPG: 640x640 1 Aphidius, 2 Bladluiss, 89.4ms\n",
      "Speed: 6.7ms preprocess, 89.4ms inference, 2.0ms postprocess per image at shape (1, 3, 640, 640)\n",
      "Results saved to \u001b[1mModel\\GSS\u001b[0m\n",
      "1 label saved to Model\\GSS\\labels\n",
      "\n",
      "WARNING  Source shapes differ. For optimal performance supply similarly-shaped sources.\n",
      "image 1/1 C:\\Users\\Sjoer\\OneDrive - HAS Hogeschool\\Documenten\\Python\\WWEL-Sjoerd\\Database\\GSS\\images\\0039_A52_omgeving_1_6400_2560.JPG: 640x640 3 Aphidiuss, 90.0ms\n",
      "Speed: 4.0ms preprocess, 90.0ms inference, 3.4ms postprocess per image at shape (1, 3, 640, 640)\n",
      "Results saved to \u001b[1mModel\\GSS\u001b[0m\n",
      "2 labels saved to Model\\GSS\\labels\n",
      "\n",
      "WARNING  Source shapes differ. For optimal performance supply similarly-shaped sources.\n",
      "image 1/1 C:\\Users\\Sjoer\\OneDrive - HAS Hogeschool\\Documenten\\Python\\WWEL-Sjoerd\\Database\\GSS\\images\\0136_ip13_omgeving_1_3840_3840.JPG: 640x640 1 Bladluis, 75.1ms\n",
      "Speed: 4.0ms preprocess, 75.1ms inference, 1.0ms postprocess per image at shape (1, 3, 640, 640)\n",
      "Results saved to \u001b[1mModel\\GSS\u001b[0m\n",
      "3 labels saved to Model\\GSS\\labels\n",
      "\n",
      "WARNING  Source shapes differ. For optimal performance supply similarly-shaped sources.\n",
      "image 1/1 C:\\Users\\Sjoer\\OneDrive - HAS Hogeschool\\Documenten\\Python\\WWEL-Sjoerd\\Database\\GSS\\images\\0134_A52_flits_1_3200_5120.JPG: 640x640 1 Bladluis, 90.1ms\n",
      "Speed: 5.0ms preprocess, 90.1ms inference, 1.0ms postprocess per image at shape (1, 3, 640, 640)\n",
      "Results saved to \u001b[1mModel\\GSS\u001b[0m\n",
      "4 labels saved to Model\\GSS\\labels\n",
      "\n",
      "WARNING  Source shapes differ. For optimal performance supply similarly-shaped sources.\n",
      "image 1/1 C:\\Users\\Sjoer\\OneDrive - HAS Hogeschool\\Documenten\\Python\\WWEL-Sjoerd\\Database\\GSS\\images\\0127_ip7_flits_1_3840_1280.JPG: 640x640 1 Aphidius, 154.1ms\n",
      "Speed: 9.0ms preprocess, 154.1ms inference, 0.0ms postprocess per image at shape (1, 3, 640, 640)\n",
      "Results saved to \u001b[1mModel\\GSS\u001b[0m\n",
      "5 labels saved to Model\\GSS\\labels\n",
      "\n",
      "WARNING  Source shapes differ. For optimal performance supply similarly-shaped sources.\n",
      "image 1/1 C:\\Users\\Sjoer\\OneDrive - HAS Hogeschool\\Documenten\\Python\\WWEL-Sjoerd\\Database\\GSS\\images\\0124_ip13_omgeving_1_1920_4480.JPG: 640x640 1 Aphidius, 3 Bladluiss, 100.5ms\n",
      "Speed: 4.4ms preprocess, 100.5ms inference, 1.3ms postprocess per image at shape (1, 3, 640, 640)\n",
      "Results saved to \u001b[1mModel\\GSS\u001b[0m\n",
      "6 labels saved to Model\\GSS\\labels\n",
      "\n",
      "WARNING  Source shapes differ. For optimal performance supply similarly-shaped sources.\n",
      "image 1/1 C:\\Users\\Sjoer\\OneDrive - HAS Hogeschool\\Documenten\\Python\\WWEL-Sjoerd\\Database\\GSS\\images\\0129_ip13_omgeving_1_3840_1280.JPG: 640x640 1 Aphidius, 121.1ms\n",
      "Speed: 4.0ms preprocess, 121.1ms inference, 0.0ms postprocess per image at shape (1, 3, 640, 640)\n",
      "Results saved to \u001b[1mModel\\GSS\u001b[0m\n",
      "7 labels saved to Model\\GSS\\labels\n",
      "\n",
      "WARNING  Source shapes differ. For optimal performance supply similarly-shaped sources.\n",
      "image 1/1 C:\\Users\\Sjoer\\OneDrive - HAS Hogeschool\\Documenten\\Python\\WWEL-Sjoerd\\Database\\GSS\\images\\0127_A52_flits_2_7680_2560.JPG: 640x640 (no detections), 100.1ms\n",
      "Speed: 17.1ms preprocess, 100.1ms inference, 1.5ms postprocess per image at shape (1, 3, 640, 640)\n",
      "Results saved to \u001b[1mModel\\GSS\u001b[0m\n",
      "7 labels saved to Model\\GSS\\labels\n",
      "\n",
      "WARNING  Source shapes differ. For optimal performance supply similarly-shaped sources.\n",
      "image 1/1 C:\\Users\\Sjoer\\OneDrive - HAS Hogeschool\\Documenten\\Python\\WWEL-Sjoerd\\Database\\GSS\\images\\0127_A52_flits_2_7680_2560.JPG: 640x640 (no detections), 79.5ms\n",
      "Speed: 4.0ms preprocess, 79.5ms inference, 1.4ms postprocess per image at shape (1, 3, 640, 640)\n",
      "Results saved to \u001b[1mModel\\GSS\u001b[0m\n",
      "7 labels saved to Model\\GSS\\labels\n",
      "\n",
      "WARNING  Source shapes differ. For optimal performance supply similarly-shaped sources.\n",
      "image 1/1 C:\\Users\\Sjoer\\OneDrive - HAS Hogeschool\\Documenten\\Python\\WWEL-Sjoerd\\Database\\GSS\\images\\0127_A52_flits_2_7680_2560.JPG: 640x640 (no detections), 97.5ms\n",
      "Speed: 5.0ms preprocess, 97.5ms inference, 0.0ms postprocess per image at shape (1, 3, 640, 640)\n",
      "Results saved to \u001b[1mModel\\GSS\u001b[0m\n",
      "7 labels saved to Model\\GSS\\labels\n",
      "\n",
      "WARNING  Source shapes differ. For optimal performance supply similarly-shaped sources.\n",
      "image 1/1 C:\\Users\\Sjoer\\OneDrive - HAS Hogeschool\\Documenten\\Python\\WWEL-Sjoerd\\Database\\GSS\\images\\0127_A52_flits_2_7680_2560.JPG: 640x640 (no detections), 80.2ms\n",
      "Speed: 4.0ms preprocess, 80.2ms inference, 0.0ms postprocess per image at shape (1, 3, 640, 640)\n",
      "Results saved to \u001b[1mModel\\GSS\u001b[0m\n",
      "7 labels saved to Model\\GSS\\labels\n",
      "\n",
      "WARNING  Source shapes differ. For optimal performance supply similarly-shaped sources.\n",
      "image 1/1 C:\\Users\\Sjoer\\OneDrive - HAS Hogeschool\\Documenten\\Python\\WWEL-Sjoerd\\Database\\GSS\\images\\0127_A52_flits_2_7680_2560.JPG: 640x640 (no detections), 88.3ms\n",
      "Speed: 4.0ms preprocess, 88.3ms inference, 0.0ms postprocess per image at shape (1, 3, 640, 640)\n",
      "Results saved to \u001b[1mModel\\GSS\u001b[0m\n",
      "7 labels saved to Model\\GSS\\labels\n",
      "\n",
      "WARNING  Source shapes differ. For optimal performance supply similarly-shaped sources.\n",
      "image 1/1 C:\\Users\\Sjoer\\OneDrive - HAS Hogeschool\\Documenten\\Python\\WWEL-Sjoerd\\Database\\GSS\\images\\0127_A52_flits_2_7680_2560.JPG: 640x640 (no detections), 74.6ms\n",
      "Speed: 3.0ms preprocess, 74.6ms inference, 1.4ms postprocess per image at shape (1, 3, 640, 640)\n",
      "Results saved to \u001b[1mModel\\GSS\u001b[0m\n",
      "7 labels saved to Model\\GSS\\labels\n",
      "\n",
      "WARNING  Source shapes differ. For optimal performance supply similarly-shaped sources.\n",
      "image 1/1 C:\\Users\\Sjoer\\OneDrive - HAS Hogeschool\\Documenten\\Python\\WWEL-Sjoerd\\Database\\GSS\\images\\0167_A52_omgeving_1_3200_4480.JPG: 640x640 1 Thrips, 2 Witte Vliegs, 111.7ms\n",
      "Speed: 4.0ms preprocess, 111.7ms inference, 2.0ms postprocess per image at shape (1, 3, 640, 640)\n",
      "Results saved to \u001b[1mModel\\GSS\u001b[0m\n",
      "8 labels saved to Model\\GSS\\labels\n",
      "\n",
      "WARNING  Source shapes differ. For optimal performance supply similarly-shaped sources.\n",
      "image 1/1 C:\\Users\\Sjoer\\OneDrive - HAS Hogeschool\\Documenten\\Python\\WWEL-Sjoerd\\Database\\GSS\\images\\0039_ip7_flits_1_5120_3840.JPG: 640x640 3 Aphidiuss, 196.4ms\n",
      "Speed: 10.1ms preprocess, 196.4ms inference, 1.4ms postprocess per image at shape (1, 3, 640, 640)\n",
      "Results saved to \u001b[1mModel\\GSS\u001b[0m\n",
      "9 labels saved to Model\\GSS\\labels\n",
      "\n",
      "WARNING  Source shapes differ. For optimal performance supply similarly-shaped sources.\n",
      "image 1/1 C:\\Users\\Sjoer\\OneDrive - HAS Hogeschool\\Documenten\\Python\\WWEL-Sjoerd\\Database\\GSS\\images\\0010_ip7_flits_1_1920_3200.JPG: 640x640 1 Thrips, 184.4ms\n",
      "Speed: 4.4ms preprocess, 184.4ms inference, 2.0ms postprocess per image at shape (1, 3, 640, 640)\n",
      "Results saved to \u001b[1mModel\\GSS\u001b[0m\n",
      "10 labels saved to Model\\GSS\\labels\n",
      "\n",
      "WARNING  Source shapes differ. For optimal performance supply similarly-shaped sources.\n",
      "image 1/1 C:\\Users\\Sjoer\\OneDrive - HAS Hogeschool\\Documenten\\Python\\WWEL-Sjoerd\\Database\\GSS\\images\\0061_A52_flits_1_3200_4480.JPG: 640x640 10 Witte Vliegs, 3 Bladluiss, 88.9ms\n",
      "Speed: 4.3ms preprocess, 88.9ms inference, 1.1ms postprocess per image at shape (1, 3, 640, 640)\n",
      "Results saved to \u001b[1mModel\\GSS\u001b[0m\n",
      "11 labels saved to Model\\GSS\\labels\n",
      "\n",
      "WARNING  Source shapes differ. For optimal performance supply similarly-shaped sources.\n",
      "image 1/1 C:\\Users\\Sjoer\\OneDrive - HAS Hogeschool\\Documenten\\Python\\WWEL-Sjoerd\\Database\\GSS\\images\\0061_ip7_flits_1_1920_2560.JPG: 640x640 1 Thrips, 9 Witte Vliegs, 127.5ms\n",
      "Speed: 5.0ms preprocess, 127.5ms inference, 1.0ms postprocess per image at shape (1, 3, 640, 640)\n",
      "Results saved to \u001b[1mModel\\GSS\u001b[0m\n",
      "12 labels saved to Model\\GSS\\labels\n",
      "\n",
      "WARNING  Source shapes differ. For optimal performance supply similarly-shaped sources.\n",
      "image 1/1 C:\\Users\\Sjoer\\OneDrive - HAS Hogeschool\\Documenten\\Python\\WWEL-Sjoerd\\Database\\GSS\\images\\0056_A52_omgeving_1_5120_4480.JPG: 640x640 2 Witte Vliegs, 2 Bladluiss, 137.9ms\n",
      "Speed: 4.4ms preprocess, 137.9ms inference, 6.0ms postprocess per image at shape (1, 3, 640, 640)\n",
      "Results saved to \u001b[1mModel\\GSS\u001b[0m\n",
      "13 labels saved to Model\\GSS\\labels\n",
      "\n",
      "WARNING  Source shapes differ. For optimal performance supply similarly-shaped sources.\n",
      "image 1/1 C:\\Users\\Sjoer\\OneDrive - HAS Hogeschool\\Documenten\\Python\\WWEL-Sjoerd\\Database\\GSS\\images\\0167_ip13_flits_1_7040_3840.JPG: 640x640 1 Bladluis, 176.9ms\n",
      "Speed: 3.5ms preprocess, 176.9ms inference, 1.0ms postprocess per image at shape (1, 3, 640, 640)\n",
      "Results saved to \u001b[1mModel\\GSS\u001b[0m\n",
      "14 labels saved to Model\\GSS\\labels\n",
      "\n",
      "WARNING  Source shapes differ. For optimal performance supply similarly-shaped sources.\n",
      "image 1/1 C:\\Users\\Sjoer\\OneDrive - HAS Hogeschool\\Documenten\\Python\\WWEL-Sjoerd\\Database\\GSS\\images\\0137_A52_omgeving_1_4480_7040.JPG: 640x640 1 Aphidius, 107.4ms\n",
      "Speed: 4.0ms preprocess, 107.4ms inference, 1.2ms postprocess per image at shape (1, 3, 640, 640)\n",
      "Results saved to \u001b[1mModel\\GSS\u001b[0m\n",
      "15 labels saved to Model\\GSS\\labels\n"
     ]
    }
   ],
   "source": [
    "\n",
    "#Label widget moet naar externe file\n",
    "Launch(\".\")"
   ]
  }
 ],
 "metadata": {
  "kernelspec": {
   "display_name": "Well-Anotate",
   "language": "python",
   "name": "python3"
  },
  "language_info": {
   "codemirror_mode": {
    "name": "ipython",
    "version": 3
   },
   "file_extension": ".py",
   "mimetype": "text/x-python",
   "name": "python",
   "nbconvert_exporter": "python",
   "pygments_lexer": "ipython3",
   "version": "3.9.13"
  },
  "orig_nbformat": 4
 },
 "nbformat": 4,
 "nbformat_minor": 2
}
