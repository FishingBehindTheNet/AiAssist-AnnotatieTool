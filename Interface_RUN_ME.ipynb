{
 "cells": [
  {
   "cell_type": "code",
   "execution_count": 1,
   "metadata": {},
   "outputs": [],
   "source": [
    "from Modules.Opstarten import Launch"
   ]
  },
  {
   "cell_type": "code",
   "execution_count": null,
   "metadata": {},
   "outputs": [
    {
     "data": {
      "application/vnd.jupyter.widget-view+json": {
       "model_id": "aa293db78c634615b5e1f8bdef45ac25",
       "version_major": 2,
       "version_minor": 0
      },
      "text/plain": [
       "VBox(children=(HTML(value=\"<h3>Map locaties</h3> Deze map bevat alle <b>Foto's</b>:\"), FileChooser(path='C:\\Us…"
      ]
     },
     "metadata": {},
     "output_type": "display_data"
    },
    {
     "data": {
      "application/vnd.jupyter.widget-view+json": {
       "model_id": "c1999187f6b84363b395826d5752a1e2",
       "version_major": 2,
       "version_minor": 0
      },
      "text/plain": [
       "VBox(children=(HTML(value='<h3>Model keuze</h3> selecteer het <b>model.pt</b>:'), FileChooser(path='C:\\Users\\S…"
      ]
     },
     "metadata": {},
     "output_type": "display_data"
    },
    {
     "data": {
      "application/vnd.jupyter.widget-view+json": {
       "model_id": "661972f100e34abe9de564991d57d108",
       "version_major": 2,
       "version_minor": 0
      },
      "text/plain": [
       "VBox(children=(HTML(value='<b>De volgende Labels zijn al geregistreerd:</b><br>Trips<br> Aphidius<br> Witte vl…"
      ]
     },
     "metadata": {},
     "output_type": "display_data"
    },
    {
     "data": {
      "application/vnd.jupyter.widget-view+json": {
       "model_id": "100bf96daf7440b6b3980b1f8564fc67",
       "version_major": 2,
       "version_minor": 0
      },
      "text/plain": [
       "VBox(children=(HBox(children=(Button(button_style='warning', description='Back', style=ButtonStyle()), ToggleB…"
      ]
     },
     "metadata": {},
     "output_type": "display_data"
    },
    {
     "name": "stderr",
     "output_type": "stream",
     "text": [
      "\n",
      "image 1/1 C:\\Users\\Sjoer\\OneDrive - HAS Hogeschool\\Documenten\\Python\\WWEL-Sjoerd\\Database\\GSS\\images\\0139_A52_omgeving_1_3200_3200.JPG: 640x640 2 Bladluiss, 758.7ms\n",
      "Speed: 1.0ms preprocess, 758.7ms inference, 2.0ms postprocess per image at shape (1, 3, 640, 640)\n",
      "Results saved to \u001b[1mData\\GSS\u001b[0m\n",
      "32 labels saved to Data\\GSS\\labels\n",
      "\n",
      "image 1/1 C:\\Users\\Sjoer\\OneDrive - HAS Hogeschool\\Documenten\\Python\\WWEL-Sjoerd\\Database\\GSS\\images\\0079_ip13_omgeving_1_4480_2560.JPG: 640x640 (no detections), 604.0ms\n",
      "Speed: 2.2ms preprocess, 604.0ms inference, 1.0ms postprocess per image at shape (1, 3, 640, 640)\n",
      "Results saved to \u001b[1mData\\GSS\u001b[0m\n",
      "32 labels saved to Data\\GSS\\labels\n",
      "\n",
      "image 1/1 C:\\Users\\Sjoer\\OneDrive - HAS Hogeschool\\Documenten\\Python\\WWEL-Sjoerd\\Database\\GSS\\images\\0079_ip13_omgeving_1_4480_2560.JPG: 640x640 (no detections), 600.1ms\n",
      "Speed: 2.0ms preprocess, 600.1ms inference, 0.0ms postprocess per image at shape (1, 3, 640, 640)\n",
      "Results saved to \u001b[1mData\\GSS\u001b[0m\n",
      "32 labels saved to Data\\GSS\\labels\n",
      "\n",
      "image 1/1 C:\\Users\\Sjoer\\OneDrive - HAS Hogeschool\\Documenten\\Python\\WWEL-Sjoerd\\Database\\GSS\\images\\0061_A52_flits_1_6400_2560.JPG: 640x640 14 Witte Vliegs, 673.2ms\n",
      "Speed: 3.1ms preprocess, 673.2ms inference, 2.0ms postprocess per image at shape (1, 3, 640, 640)\n",
      "Results saved to \u001b[1mData\\GSS\u001b[0m\n",
      "33 labels saved to Data\\GSS\\labels\n",
      "\n",
      "image 1/1 C:\\Users\\Sjoer\\OneDrive - HAS Hogeschool\\Documenten\\Python\\WWEL-Sjoerd\\Database\\GSS\\images\\0135_ip7_flits_1_4480_3840.JPG: 640x640 1 Aphidius, 633.2ms\n",
      "Speed: 4.5ms preprocess, 633.2ms inference, 2.0ms postprocess per image at shape (1, 3, 640, 640)\n",
      "Results saved to \u001b[1mData\\GSS\u001b[0m\n",
      "34 labels saved to Data\\GSS\\labels\n",
      "\n",
      "image 1/1 C:\\Users\\Sjoer\\OneDrive - HAS Hogeschool\\Documenten\\Python\\WWEL-Sjoerd\\Database\\GSS\\images\\0079_ip13_omgeving_1_4480_2560.JPG: 640x640 (no detections), 452.5ms\n",
      "Speed: 2.0ms preprocess, 452.5ms inference, 0.0ms postprocess per image at shape (1, 3, 640, 640)\n",
      "Results saved to \u001b[1mData\\GSS\u001b[0m\n",
      "34 labels saved to Data\\GSS\\labels\n",
      "\n",
      "image 1/1 C:\\Users\\Sjoer\\OneDrive - HAS Hogeschool\\Documenten\\Python\\WWEL-Sjoerd\\Database\\GSS\\images\\0002_ip13_flits_1_1280_4480.JPG: 640x640 (no detections), 467.0ms\n",
      "Speed: 4.4ms preprocess, 467.0ms inference, 1.0ms postprocess per image at shape (1, 3, 640, 640)\n",
      "Results saved to \u001b[1mData\\GSS\u001b[0m\n",
      "34 labels saved to Data\\GSS\\labels\n",
      "\n",
      "image 1/1 C:\\Users\\Sjoer\\OneDrive - HAS Hogeschool\\Documenten\\Python\\WWEL-Sjoerd\\Database\\GSS\\images\\0002_ip13_flits_1_1280_4480.JPG: 640x640 (no detections), 453.3ms\n",
      "Speed: 3.3ms preprocess, 453.3ms inference, 0.0ms postprocess per image at shape (1, 3, 640, 640)\n",
      "Results saved to \u001b[1mData\\GSS\u001b[0m\n",
      "34 labels saved to Data\\GSS\\labels\n",
      "\n",
      "image 1/1 C:\\Users\\Sjoer\\OneDrive - HAS Hogeschool\\Documenten\\Python\\WWEL-Sjoerd\\Database\\GSS\\images\\0002_ip13_flits_1_1280_4480.JPG: 640x640 (no detections), 525.4ms\n",
      "Speed: 5.7ms preprocess, 525.4ms inference, 1.0ms postprocess per image at shape (1, 3, 640, 640)\n",
      "Results saved to \u001b[1mData\\GSS\u001b[0m\n",
      "34 labels saved to Data\\GSS\\labels\n",
      "\n",
      "image 1/1 C:\\Users\\Sjoer\\OneDrive - HAS Hogeschool\\Documenten\\Python\\WWEL-Sjoerd\\Database\\GSS\\images\\0079_ip13_omgeving_1_4480_2560.JPG: 640x640 (no detections), 444.1ms\n",
      "Speed: 4.5ms preprocess, 444.1ms inference, 1.0ms postprocess per image at shape (1, 3, 640, 640)\n",
      "Results saved to \u001b[1mData\\GSS\u001b[0m\n",
      "34 labels saved to Data\\GSS\\labels\n",
      "\n",
      "image 1/1 C:\\Users\\Sjoer\\OneDrive - HAS Hogeschool\\Documenten\\Python\\WWEL-Sjoerd\\Database\\GSS\\images\\0124_ip13_flits_1_1280_4480.JPG: 640x640 2 Aphidiuss, 524.6ms\n",
      "Speed: 2.0ms preprocess, 524.6ms inference, 1.6ms postprocess per image at shape (1, 3, 640, 640)\n",
      "Results saved to \u001b[1mData\\GSS\u001b[0m\n",
      "35 labels saved to Data\\GSS\\labels\n",
      "\n",
      "image 1/1 C:\\Users\\Sjoer\\OneDrive - HAS Hogeschool\\Documenten\\Python\\WWEL-Sjoerd\\Database\\GSS\\images\\0137_ip7_flits_1_1920_4480.JPG: 640x640 2 Bladluiss, 451.3ms\n",
      "Speed: 1.0ms preprocess, 451.3ms inference, 1.0ms postprocess per image at shape (1, 3, 640, 640)\n",
      "Results saved to \u001b[1mData\\GSS\u001b[0m\n",
      "36 labels saved to Data\\GSS\\labels\n",
      "\n",
      "image 1/1 C:\\Users\\Sjoer\\OneDrive - HAS Hogeschool\\Documenten\\Python\\WWEL-Sjoerd\\Database\\GSS\\images\\0017_ip7_omgeving_1_6400_5760.JPG: 640x640 2 Witte Vliegs, 472.5ms\n",
      "Speed: 1.0ms preprocess, 472.5ms inference, 2.1ms postprocess per image at shape (1, 3, 640, 640)\n",
      "Results saved to \u001b[1mData\\GSS\u001b[0m\n",
      "37 labels saved to Data\\GSS\\labels\n",
      "\n",
      "image 1/1 C:\\Users\\Sjoer\\OneDrive - HAS Hogeschool\\Documenten\\Python\\WWEL-Sjoerd\\Database\\GSS\\images\\0127_ip7_flits_1_1280_6400.JPG: 640x640 2 Aphidiuss, 538.7ms\n",
      "Speed: 2.3ms preprocess, 538.7ms inference, 0.7ms postprocess per image at shape (1, 3, 640, 640)\n",
      "Results saved to \u001b[1mData\\GSS\u001b[0m\n",
      "38 labels saved to Data\\GSS\\labels\n",
      "\n",
      "image 1/1 C:\\Users\\Sjoer\\OneDrive - HAS Hogeschool\\Documenten\\Python\\WWEL-Sjoerd\\Database\\GSS\\images\\0002_ip7_flits_1_3200_3840.JPG: 640x640 2 Witte Vliegs, 1 Bladluis, 467.8ms\n",
      "Speed: 1.1ms preprocess, 467.8ms inference, 1.8ms postprocess per image at shape (1, 3, 640, 640)\n",
      "Results saved to \u001b[1mData\\GSS\u001b[0m\n",
      "39 labels saved to Data\\GSS\\labels\n",
      "\n",
      "image 1/1 C:\\Users\\Sjoer\\OneDrive - HAS Hogeschool\\Documenten\\Python\\WWEL-Sjoerd\\Database\\GSS\\images\\0130_ip13_flits_1_2560_3200.JPG: 640x640 1 Thrips, 480.0ms\n",
      "Speed: 2.0ms preprocess, 480.0ms inference, 1.0ms postprocess per image at shape (1, 3, 640, 640)\n",
      "Results saved to \u001b[1mData\\GSS\u001b[0m\n",
      "40 labels saved to Data\\GSS\\labels\n",
      "\n",
      "image 1/1 C:\\Users\\Sjoer\\OneDrive - HAS Hogeschool\\Documenten\\Python\\WWEL-Sjoerd\\Database\\GSS\\images\\0131_A52_omgeving_1_3200_3840.JPG: 640x640 1 Aphidius, 485.7ms\n",
      "Speed: 14.2ms preprocess, 485.7ms inference, 1.0ms postprocess per image at shape (1, 3, 640, 640)\n",
      "Results saved to \u001b[1mData\\GSS\u001b[0m\n",
      "41 labels saved to Data\\GSS\\labels\n",
      "\n",
      "image 1/1 C:\\Users\\Sjoer\\OneDrive - HAS Hogeschool\\Documenten\\Python\\WWEL-Sjoerd\\Database\\GSS\\images\\0138_ip7_omgeving_1_2560_1280.JPG: 640x640 1 Aphidius, 1 Bladluis, 461.9ms\n",
      "Speed: 2.0ms preprocess, 461.9ms inference, 0.0ms postprocess per image at shape (1, 3, 640, 640)\n",
      "Results saved to \u001b[1mData\\GSS\u001b[0m\n",
      "42 labels saved to Data\\GSS\\labels\n",
      "\n",
      "image 1/1 C:\\Users\\Sjoer\\OneDrive - HAS Hogeschool\\Documenten\\Python\\WWEL-Sjoerd\\Database\\GSS\\images\\0135_ip13_flits_1_1920_3840.JPG: 640x640 2 Aphidiuss, 464.4ms\n",
      "Speed: 2.4ms preprocess, 464.4ms inference, 1.6ms postprocess per image at shape (1, 3, 640, 640)\n",
      "Results saved to \u001b[1mData\\GSS\u001b[0m\n",
      "43 labels saved to Data\\GSS\\labels\n",
      "\n",
      "image 1/1 C:\\Users\\Sjoer\\OneDrive - HAS Hogeschool\\Documenten\\Python\\WWEL-Sjoerd\\Database\\GSS\\images\\0135_A52_omgeving_1_2560_7680.JPG: 640x640 1 Aphidius, 480.4ms\n",
      "Speed: 6.5ms preprocess, 480.4ms inference, 1.0ms postprocess per image at shape (1, 3, 640, 640)\n",
      "Results saved to \u001b[1mData\\GSS\u001b[0m\n",
      "44 labels saved to Data\\GSS\\labels\n",
      "\n",
      "image 1/1 C:\\Users\\Sjoer\\OneDrive - HAS Hogeschool\\Documenten\\Python\\WWEL-Sjoerd\\Database\\GSS\\images\\0127_ip13_omgeving_1_3200_7040.JPG: 640x640 1 Bladluis, 461.9ms\n",
      "Speed: 2.0ms preprocess, 461.9ms inference, 1.0ms postprocess per image at shape (1, 3, 640, 640)\n",
      "Results saved to \u001b[1mData\\GSS\u001b[0m\n",
      "45 labels saved to Data\\GSS\\labels\n",
      "\n",
      "image 1/1 C:\\Users\\Sjoer\\OneDrive - HAS Hogeschool\\Documenten\\Python\\WWEL-Sjoerd\\Database\\GSS\\images\\0002_A52_omgeving_1_4480_3200.JPG: 640x640 1 Thrips, 2 Witte Vliegs, 453.0ms\n",
      "Speed: 4.0ms preprocess, 453.0ms inference, 1.0ms postprocess per image at shape (1, 3, 640, 640)\n",
      "Results saved to \u001b[1mData\\GSS\u001b[0m\n",
      "46 labels saved to Data\\GSS\\labels\n"
     ]
    }
   ],
   "source": [
    "\n",
    "#Label widget moet naar externe file\n",
    "Launch(\".\")"
   ]
  }
 ],
 "metadata": {
  "kernelspec": {
   "display_name": "Well-Anotate",
   "language": "python",
   "name": "python3"
  },
  "language_info": {
   "codemirror_mode": {
    "name": "ipython",
    "version": 3
   },
   "file_extension": ".py",
   "mimetype": "text/x-python",
   "name": "python",
   "nbconvert_exporter": "python",
   "pygments_lexer": "ipython3",
   "version": "3.9.16"
  },
  "orig_nbformat": 4
 },
 "nbformat": 4,
 "nbformat_minor": 2
}
