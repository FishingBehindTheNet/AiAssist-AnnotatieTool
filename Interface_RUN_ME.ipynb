{
 "cells": [
  {
   "cell_type": "code",
   "execution_count": 1,
   "metadata": {},
   "outputs": [],
   "source": [
    "from Modules.Opstarten import Launch"
   ]
  },
  {
   "cell_type": "code",
   "execution_count": 2,
   "metadata": {},
   "outputs": [
    {
     "data": {
      "application/vnd.jupyter.widget-view+json": {
       "model_id": "47eaf615844f4a36a1d51a5dfddca76b",
       "version_major": 2,
       "version_minor": 0
      },
      "text/plain": [
       "VBox(children=(HTML(value=\"<h3>Map locaties</h3> Deze map bevat alle <b>Foto's</b>:\"), FileChooser(path='C:\\Us…"
      ]
     },
     "metadata": {},
     "output_type": "display_data"
    },
    {
     "data": {
      "application/vnd.jupyter.widget-view+json": {
       "model_id": "1a596458bcc649648cf70d1a31a088da",
       "version_major": 2,
       "version_minor": 0
      },
      "text/plain": [
       "VBox(children=(HTML(value='<h3>Model keuze</h3> selecteer het <b>model.pt</b>:'), FileChooser(path='C:\\Users\\S…"
      ]
     },
     "metadata": {},
     "output_type": "display_data"
    },
    {
     "data": {
      "application/vnd.jupyter.widget-view+json": {
       "model_id": "ae6b1506f89e429598b9f31cb3f39c18",
       "version_major": 2,
       "version_minor": 0
      },
      "text/plain": [
       "VBox(children=(HTML(value='<b>De volgende Labels zijn al geregistreerd:</b><br>Trips<br> Aphidius<br> Witte vl…"
      ]
     },
     "metadata": {},
     "output_type": "display_data"
    },
    {
     "data": {
      "application/vnd.jupyter.widget-view+json": {
       "model_id": "20ec4ee8f2114b4283922eb712254c14",
       "version_major": 2,
       "version_minor": 0
      },
      "text/plain": [
       "VBox(children=(HBox(children=(Button(button_style='warning', description='Back', style=ButtonStyle()), ToggleB…"
      ]
     },
     "metadata": {},
     "output_type": "display_data"
    },
    {
     "name": "stderr",
     "output_type": "stream",
     "text": [
      "WARNING  Unable to automatically guess model task, assuming 'task=detect'. Explicitly define task for your model, i.e. 'task=detect', 'segment', 'classify', or 'pose'.\n",
      "Loading C:\\Users\\Sjoer\\OneDrive - HAS Hogeschool\\Documenten\\Python\\WWEL-Sjoerd\\Model\\Well\\Model\\weights\\best.onnx for ONNX Runtime inference...\n",
      "\u001b[31m\u001b[1mrequirements:\u001b[0m YOLOv8 requirement \"onnx\" not found, attempting AutoUpdate...\n",
      "\u001b[31m\u001b[1mrequirements:\u001b[0m  Command 'pip install --no-cache \"onnx\"  ' returned non-zero exit status 1.\n",
      "\n",
      "image 1/1 C:\\Users\\Sjoer\\OneDrive - HAS Hogeschool\\Documenten\\Python\\WWEL-Sjoerd\\Database\\GSS\\images\\0169_ip13_flits_1_5120_5120.JPG: 640x640 3 Witte Vliegs, 138.5ms\n",
      "Speed: 12.0ms preprocess, 138.5ms inference, 0.0ms postprocess per image at shape (1, 3, 640, 640)\n",
      "Results saved to \u001b[1mModel\\test\u001b[0m\n",
      "1 label saved to Model\\test\\labels\n"
     ]
    }
   ],
   "source": [
    "\n",
    "#Label widget moet naar externe file\n",
    "Launch(\".\")"
   ]
  }
 ],
 "metadata": {
  "kernelspec": {
   "display_name": "Well-Anotate",
   "language": "python",
   "name": "python3"
  },
  "language_info": {
   "codemirror_mode": {
    "name": "ipython",
    "version": 3
   },
   "file_extension": ".py",
   "mimetype": "text/x-python",
   "name": "python",
   "nbconvert_exporter": "python",
   "pygments_lexer": "ipython3",
   "version": "3.9.16"
  },
  "orig_nbformat": 4
 },
 "nbformat": 4,
 "nbformat_minor": 2
}
